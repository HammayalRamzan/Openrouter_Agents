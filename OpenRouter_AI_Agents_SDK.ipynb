{
  "nbformat": 4,
  "nbformat_minor": 0,
  "metadata": {
    "colab": {
      "provenance": [],
      "authorship_tag": "ABX9TyPUUMzNpaiu0Qqkj62wQuMu",
      "include_colab_link": true
    },
    "kernelspec": {
      "name": "python3",
      "display_name": "Python 3"
    },
    "language_info": {
      "name": "python"
    }
  },
  "cells": [
    {
      "cell_type": "markdown",
      "metadata": {
        "id": "view-in-github",
        "colab_type": "text"
      },
      "source": [
        "<a href=\"https://colab.research.google.com/github/HammayalRamzan/Openrouter_Agents/blob/main/OpenRouter_AI_Agents_SDK.ipynb\" target=\"_parent\"><img src=\"https://colab.research.google.com/assets/colab-badge.svg\" alt=\"Open In Colab\"/></a>"
      ]
    },
    {
      "cell_type": "markdown",
      "metadata": {
        "id": "o92NPvIPpmCv"
      },
      "source": [
        "# Use OpenRouter With OpenAI Agents SDK"
      ]
    },
    {
      "cell_type": "markdown",
      "metadata": {
        "id": "l5oT3E8gqY_O"
      },
      "source": [
        "Setup Prerequisite:\n",
        "\n",
        "1. [Signup at OpenRouter](https://openrouter.ai/)\n",
        "2. [Create an API Key](https://openrouter.ai/settings/keys)\n",
        "2. Select a Free Model (you can continue as we are using a free model here)"
      ]
    },
    {
      "cell_type": "markdown",
      "metadata": {
        "id": "-Zh5JPz1qLbD"
      },
      "source": [
        "## Free and Paid Models"
      ]
    },
    {
      "cell_type": "markdown",
      "metadata": {
        "id": "3NksiafzqSg7"
      },
      "source": [
        "The OpenRouter supports the latest DeepSeek V3 0324 and 50+ other models for free. Most of them support the defacto standard: OpenAI Chat Completion API.\n",
        "\n",
        "\n",
        "If you are using a free model variant (with an ID ending in :free), then you will be limited to 20 requests per minute and 200 requests per day.\n",
        "\n",
        "**See all Models List: https://openrouter.ai/models**\n",
        "\n",
        "Note: OpenRouter do not charge anything extra at inference time."
      ]
    },
    {
      "cell_type": "markdown",
      "metadata": {
        "id": "GqX_s5idrryf"
      },
      "source": [
        "## Install OpenAI Agents"
      ]
    },
    {
      "cell_type": "code",
      "execution_count": 1,
      "metadata": {
        "colab": {
          "base_uri": "https://localhost:8080/"
        },
        "id": "nY-jAD4VZ2PZ",
        "outputId": "09abfb3f-41ef-4698-d122-f2e697ebcd13"
      },
      "outputs": [
        {
          "output_type": "stream",
          "name": "stdout",
          "text": [
            "\u001b[?25l   \u001b[90m━━━━━━━━━━━━━━━━━━━━━━━━━━━━━━━━━━━━━━━━\u001b[0m \u001b[32m0.0/108.3 kB\u001b[0m \u001b[31m?\u001b[0m eta \u001b[36m-:--:--\u001b[0m\r\u001b[2K   \u001b[90m━━━━━━━━━━━━━━━━━━━━━━━━━━━━━━━━━━━━━━━━\u001b[0m \u001b[32m108.3/108.3 kB\u001b[0m \u001b[31m4.5 MB/s\u001b[0m eta \u001b[36m0:00:00\u001b[0m\n",
            "\u001b[?25h\u001b[?25l   \u001b[90m━━━━━━━━━━━━━━━━━━━━━━━━━━━━━━━━━━━━━━━━\u001b[0m \u001b[32m0.0/129.2 kB\u001b[0m \u001b[31m?\u001b[0m eta \u001b[36m-:--:--\u001b[0m\r\u001b[2K   \u001b[90m━━━━━━━━━━━━━━━━━━━━━━━━━━━━━━━━━━━━━━━━\u001b[0m \u001b[32m129.2/129.2 kB\u001b[0m \u001b[31m6.6 MB/s\u001b[0m eta \u001b[36m0:00:00\u001b[0m\n",
            "\u001b[2K   \u001b[90m━━━━━━━━━━━━━━━━━━━━━━━━━━━━━━━━━━━━━━━━\u001b[0m \u001b[32m76.1/76.1 kB\u001b[0m \u001b[31m3.6 MB/s\u001b[0m eta \u001b[36m0:00:00\u001b[0m\n",
            "\u001b[2K   \u001b[90m━━━━━━━━━━━━━━━━━━━━━━━━━━━━━━━━━━━━━━━━\u001b[0m \u001b[32m44.4/44.4 kB\u001b[0m \u001b[31m1.5 MB/s\u001b[0m eta \u001b[36m0:00:00\u001b[0m\n",
            "\u001b[2K   \u001b[90m━━━━━━━━━━━━━━━━━━━━━━━━━━━━━━━━━━━━━━━━\u001b[0m \u001b[32m72.0/72.0 kB\u001b[0m \u001b[31m3.1 MB/s\u001b[0m eta \u001b[36m0:00:00\u001b[0m\n",
            "\u001b[2K   \u001b[90m━━━━━━━━━━━━━━━━━━━━━━━━━━━━━━━━━━━━━━━━\u001b[0m \u001b[32m62.5/62.5 kB\u001b[0m \u001b[31m2.3 MB/s\u001b[0m eta \u001b[36m0:00:00\u001b[0m\n",
            "\u001b[?25h"
          ]
        }
      ],
      "source": [
        "!pip install -Uq openai-agents"
      ]
    },
    {
      "cell_type": "code",
      "source": [
        "import nest_asyncio\n",
        "nest_asyncio.apply()"
      ],
      "metadata": {
        "id": "A4xf5d9caubQ"
      },
      "execution_count": 2,
      "outputs": []
    },
    {
      "cell_type": "markdown",
      "metadata": {
        "id": "ZTOibVJuN_pi"
      },
      "source": [
        "## Provider Config"
      ]
    },
    {
      "cell_type": "code",
      "source": [
        "from google.colab import userdata\n",
        "\n",
        "OPENROUTER_API_KEY = userdata.get('openrouter')"
      ],
      "metadata": {
        "id": "c4A2LzTMbLhT"
      },
      "execution_count": 3,
      "outputs": []
    },
    {
      "cell_type": "markdown",
      "source": [
        "## **MODELS** **TESTING** 🧪"
      ],
      "metadata": {
        "id": "puVin2wsoP-a"
      }
    },
    {
      "cell_type": "markdown",
      "source": [
        "## 1:Shisa AI: Shisa V2 Llama 3.3 70B (free)\n",
        "\n",
        " It is a bilingual Japanese-English chat model fine-tuned by Shisa.\n",
        "\n",
        "It prioritizes Japanese language performance while retaining strong English capabilities"
      ],
      "metadata": {
        "id": "pI51qwmpbqfy"
      }
    },
    {
      "cell_type": "code",
      "source": [
        "#Reference: https://openrouter.ai/docs/quickstart\n",
        "\n",
        "BASE_URL = \"https://openrouter.ai/api/v1\"\n",
        "MODEL = \"shisa-ai/shisa-v2-llama3.3-70b:free\"\n"
      ],
      "metadata": {
        "id": "PwCRuV1fbm4F"
      },
      "execution_count": 4,
      "outputs": []
    },
    {
      "cell_type": "markdown",
      "metadata": {
        "id": "IyWF4XNPtI7f"
      },
      "source": [
        "## Using the OpenRouter API directly"
      ]
    },
    {
      "cell_type": "code",
      "source": [
        "import requests\n",
        "import json\n",
        "\n",
        "response = requests.post(\n",
        "  url=f\"{BASE_URL}/chat/completions\",\n",
        "  headers={\n",
        "    \"Authorization\": f\"Bearer {OPENROUTER_API_KEY}\",\n",
        "  },\n",
        "  data=json.dumps({\n",
        "    \"model\": MODEL,\n",
        "    \"messages\": [\n",
        "      {\n",
        "        \"role\": \"user\",\n",
        "        \"content\": \"What is the meaning of life?\"\n",
        "      }\n",
        "    ]\n",
        "  })\n",
        ")\n",
        "\n",
        "print(response.json())"
      ],
      "metadata": {
        "colab": {
          "base_uri": "https://localhost:8080/"
        },
        "id": "wQ4HoOVPe0O_",
        "outputId": "16536863-cc3f-43b2-b182-e86d0e52322f"
      },
      "execution_count": 5,
      "outputs": [
        {
          "output_type": "stream",
          "name": "stdout",
          "text": [
            "{'id': 'gen-1745241236-PJ7OVh20jsnE4XwUwHeH', 'provider': 'Chutes', 'model': 'shisa-ai/shisa-v2-llama3.3-70b', 'object': 'chat.completion', 'created': 1745241236, 'choices': [{'logprobs': None, 'finish_reason': 'stop', 'native_finish_reason': 'stop', 'index': 0, 'message': {'role': 'assistant', 'content': \"The meaning of life is a profound and often subjective question that philosophers, theologians, scientists, and many others have debated for centuries. Here are a few perspectives on this complex topic:\\n\\n1. **Philosophical Perspectives**:\\n   - **Existentialism**: Philosophers like Jean-Paul Sartre and Albert Camus suggest that life has no inherent meaning, and it is up to each individual to create their own meaning through choices and actions.\\n   - **Stoicism**: Stoic philosophers like Marcus Aurelius and Epictetus argue that the meaning of life is found in living in accordance with nature, virtue, and reason, and in accepting what one cannot control.\\n\\n2. **Religious and Spiritual Perspectives**:\\n   - **Many religions** (e.g., Christianity, Islam, Hinduism, Buddhism) provide frameworks for meaning through belief in a higher power, ethical codes, and a sense of purpose rooted in faith and community.\\n   - **Spiritual beliefs** often emphasize personal growth, connection to something greater than oneself, and the pursuit of enlightenment or spiritual fulfillment.\\n\\n3. **Psychological Perspectives**:\\n   - **Positive Psychology**: Psychologists like Martin Seligman and Mihály Csíkszentmihályi highlight the importance of finding meaning through positive relationships, personal growth, and engagement in activities that bring joy and a sense of purpose.\\n   - **Logotherapy** (Viktor Frankl): Suggests that the primary motivational force of an individual is to find meaning in life, even in the midst of suffering.\\n\\n4. **Biological and Evolutionary Perspectives**:\\n   - **Survival and Reproduction**: From a biological standpoint, the meaning of life can be seen as the survival of the individual and the propagation of one's genes.\\n   - **Evolutionary Psychology**: This perspective suggests that behaviors and emotions that contribute to survival and reproduction have been favored by natural selection, giving life meaning in terms of perpetuating the species.\\n\\n5. **Personal and Subjective Perspectives**:\\n   - **Individual Experiences**: Many people find meaning in personal achievements, relationships, creative endeavors, and contributions to society.\\n   - **Cultural and Social Context**: The meaning of life can vary widely depending on cultural norms, social roles, and personal values.\\n\\nUltimately, the meaning of life is something each individual must determine for themselves. It can be a combination of various perspectives, and it may evolve over time as one grows, learns, and experiences life. What gives your life meaning might be unique to you, and that's a part of what makes the question so profound and personal.\", 'refusal': None, 'reasoning': None}}], 'usage': {'prompt_tokens': 14, 'completion_tokens': 530, 'total_tokens': 544}}\n"
          ]
        }
      ]
    },
    {
      "cell_type": "code",
      "source": [
        "data = response.json()\n",
        "data['choices'][0]['message']['content']"
      ],
      "metadata": {
        "colab": {
          "base_uri": "https://localhost:8080/",
          "height": 139
        },
        "id": "xvOnGUtBfFur",
        "outputId": "96295d2f-2072-439f-b1de-2631c330ace5"
      },
      "execution_count": 6,
      "outputs": [
        {
          "output_type": "execute_result",
          "data": {
            "text/plain": [
              "\"The meaning of life is a profound and often subjective question that philosophers, theologians, scientists, and many others have debated for centuries. Here are a few perspectives on this complex topic:\\n\\n1. **Philosophical Perspectives**:\\n   - **Existentialism**: Philosophers like Jean-Paul Sartre and Albert Camus suggest that life has no inherent meaning, and it is up to each individual to create their own meaning through choices and actions.\\n   - **Stoicism**: Stoic philosophers like Marcus Aurelius and Epictetus argue that the meaning of life is found in living in accordance with nature, virtue, and reason, and in accepting what one cannot control.\\n\\n2. **Religious and Spiritual Perspectives**:\\n   - **Many religions** (e.g., Christianity, Islam, Hinduism, Buddhism) provide frameworks for meaning through belief in a higher power, ethical codes, and a sense of purpose rooted in faith and community.\\n   - **Spiritual beliefs** often emphasize personal growth, connection to something greater than oneself, and the pursuit of enlightenment or spiritual fulfillment.\\n\\n3. **Psychological Perspectives**:\\n   - **Positive Psychology**: Psychologists like Martin Seligman and Mihály Csíkszentmihályi highlight the importance of finding meaning through positive relationships, personal growth, and engagement in activities that bring joy and a sense of purpose.\\n   - **Logotherapy** (Viktor Frankl): Suggests that the primary motivational force of an individual is to find meaning in life, even in the midst of suffering.\\n\\n4. **Biological and Evolutionary Perspectives**:\\n   - **Survival and Reproduction**: From a biological standpoint, the meaning of life can be seen as the survival of the individual and the propagation of one's genes.\\n   - **Evolutionary Psychology**: This perspective suggests that behaviors and emotions that contribute to survival and reproduction have been favored by natural selection, giving life meaning in terms of perpetuating the species.\\n\\n5. **Personal and Subjective Perspectives**:\\n   - **Individual Experiences**: Many people find meaning in personal achievements, relationships, creative endeavors, and contributions to society.\\n   - **Cultural and Social Context**: The meaning of life can vary widely depending on cultural norms, social roles, and personal values.\\n\\nUltimately, the meaning of life is something each individual must determine for themselves. It can be a combination of various perspectives, and it may evolve over time as one grows, learns, and experiences life. What gives your life meaning might be unique to you, and that's a part of what makes the question so profound and personal.\""
            ],
            "application/vnd.google.colaboratory.intrinsic+json": {
              "type": "string"
            }
          },
          "metadata": {},
          "execution_count": 6
        }
      ]
    },
    {
      "cell_type": "markdown",
      "metadata": {
        "id": "E_jESzWAsu91"
      },
      "source": [
        "## 2. Using OpenAI Agents SDK"
      ]
    },
    {
      "cell_type": "code",
      "source": [
        "import asyncio\n",
        "from openai import AsyncOpenAI\n",
        "from agents import Agent, OpenAIChatCompletionsModel, Runner, set_tracing_disabled\n",
        "\n",
        "client = AsyncOpenAI(\n",
        "    api_key=OPENROUTER_API_KEY,\n",
        "    base_url=BASE_URL\n",
        ")\n",
        "\n",
        "set_tracing_disabled(disabled=True)\n",
        "\n",
        "async def main():\n",
        "    # This agent will use the custom LLM provider\n",
        "    agent = Agent(\n",
        "        name=\"Assistant\",\n",
        "        instructions=\"You only respond in English.\",\n",
        "        model=OpenAIChatCompletionsModel(model=MODEL, openai_client=client),\n",
        "    )\n",
        "\n",
        "    result = await Runner.run(\n",
        "        agent,\n",
        "        \"Tell me about recursion in programming.\",\n",
        "    )\n",
        "    print(result.final_output)\n",
        "\n",
        "\n",
        "if __name__ == \"__main__\":\n",
        "    asyncio.run(main())"
      ],
      "metadata": {
        "colab": {
          "base_uri": "https://localhost:8080/"
        },
        "collapsed": true,
        "id": "LgR-J7c9fLkI",
        "outputId": "8619fec8-c3ce-40e1-c557-79198cc17770"
      },
      "execution_count": 8,
      "outputs": [
        {
          "output_type": "stream",
          "name": "stdout",
          "text": [
            "Recursion is a fundamental programming concept where a function invokes itself within its own definition. It’s a powerful technique for solving problems that can be broken down into smaller, self-similar subproblems. Here’s a breakdown of recursion:\n",
            "\n",
            "### **Key Elements of Recursion**  \n",
            "1. **Base Case** – A condition that stops recursion to prevent infinite calls. Without a base case, the function would never terminate.\n",
            "2. **Recursive Call** – The function calls itself with different inputs (usually simpler subproblems).\n",
            "3. **Recursive Step** – Combines the results of recursive calls to solve the original problem.\n",
            "\n",
            "### **Example: Factorial Calculation**  \n",
            "The factorial of `n` (denoted as `n!`) can be calculated recursively as:  \n",
            "\\[ n! = n \\times (n-1)! \\]\n",
            "- **Base Case**: If `n = 0`, then `n! = 1`.\n",
            "- **Recursive Case**: Otherwise, `n! = n \\times (n-1)!`.\n",
            "\n",
            "Here’s the code implementation (Python):  \n",
            "```python\n",
            "def factorial(n):\n",
            "    # Base case\n",
            "    if n == 0:\n",
            "        return 1\n",
            "    # Recursive case\n",
            "    else:\n",
            "        return n * factorial(n-1)\n",
            "```\n",
            "\n",
            "### **Advantages of Recursion**  \n",
            "- **Elegant Code** – Recursion often simplifies complex problems (e.g., tree traversals, dynamic programming).\n",
            "- **Readability** – If applied correctly, it can make code more intuitive.\n",
            "\n",
            "### **Disadvantages**  \n",
            "- **Performance Overhead** – Recursion can be slower than iteration due to function call overhead (stack management).\n",
            "- **Stack Overflow** – If recursion is too deep (or the base case is missing), it can lead to stack overflow errors.\n",
            "\n",
            "### **Common Recursion Use Cases**  \n",
            "- **Tree/Graph Traversal**\n",
            "- **Dynamic Programming**\n",
            "- **Backtracking**\n",
            "- **Mathematical Functions (e.g., Fibonacci sequence)**\n",
            "\n",
            "### **When to Avoid Recursion**  \n",
            "- When **low-level performance is critical** (use iteration instead).\n",
            "- When the recursive depth is too large (e.g., large datasets).\n",
            "\n",
            "### **Tail Recursion**  \n",
            "A special form where the recursive call is the last operation in the function. Some compilers optimize tail recursion into iteration, improving efficiency.\n",
            "\n",
            "### **Conclusion**  \n",
            "Recursion is a powerful but **carefully** applied technique. It’s excellent for well-defined, self-similar problems but should be optimized for performance when necessary.\n",
            "\n",
            "Would you like an example in another programming language (JavaScript, Java, etc.)?\n"
          ]
        }
      ]
    },
    {
      "cell_type": "markdown",
      "source": [
        "##2: AllenAI: Molmo 7B D (free)\n",
        "\n",
        "Molmo is a family of open vision-language models developed by the Allen Institute for AI.\n",
        "\n",
        "Molmo was trained on 1 million high-quality image-text pairs from PixMo.\n",
        "Now it’s one of the best open-source multimodal models out there."
      ],
      "metadata": {
        "id": "I-Rf8v6TfiGe"
      }
    },
    {
      "cell_type": "code",
      "source": [
        "#Reference: https://openrouter.ai/docs/quickstart\n",
        "\n",
        "BASE_URL = \"https://openrouter.ai/api/v1\"\n",
        "MODEL = \"allenai/molmo-7b-d:free\"  #AllenAI: Molmo 7B D (free)\n"
      ],
      "metadata": {
        "id": "yVLfxlQ6f1aV"
      },
      "execution_count": 12,
      "outputs": []
    },
    {
      "cell_type": "code",
      "source": [
        "import requests\n",
        "import json\n",
        "\n",
        "response = requests.post(\n",
        "  url=f\"{BASE_URL}/chat/completions\",\n",
        "  headers={\n",
        "    \"Authorization\": f\"Bearer {OPENROUTER_API_KEY}\",\n",
        "  },\n",
        "  data=json.dumps({\n",
        "    \"model\": MODEL,\n",
        "    \"messages\": [\n",
        "      {\n",
        "        \"role\": \"user\",\n",
        "        \"content\": \"What is the meaning of Attachment?\"\n",
        "      }\n",
        "    ]\n",
        "  })\n",
        ")\n",
        "\n",
        "print(response.json())"
      ],
      "metadata": {
        "colab": {
          "base_uri": "https://localhost:8080/"
        },
        "outputId": "a2f7a5cf-b24a-4e90-d4c5-d2378cd19019",
        "id": "N_PO-mE2gEfL"
      },
      "execution_count": 13,
      "outputs": [
        {
          "output_type": "stream",
          "name": "stdout",
          "text": [
            "{'id': 'gen-1745241806-9vHZMD276fK31vGKKIUq', 'provider': 'Chutes', 'model': 'allenai/molmo-7b-d', 'object': 'chat.completion', 'created': 1745241806, 'choices': [{'logprobs': None, 'finish_reason': 'stop', 'native_finish_reason': 'stop', 'index': 0, 'message': {'role': 'assistant', 'content': \" Attachment in psychology refers to a strong emotional bond between two or more individuals. It's an intense connection characterized by feelings of love, Security, trust, and spiritual essence. This bond is typically formed during enhancing interactions and shared experiences.\\n\\nAttachments are essential for human development and social relationships. They provide a sense of safety and belonging, allowing individuals to form secure bases from which they can explore their environment.\\n\\nIn difficult times, attachments serve as emotional springboards. They often蛋糕don't species office?, connection Wu will improve!!! support我们就确定来 together?. It\\t  是的。 Abundant support babies will assured in future.你的儿子一定会很顺利的。， offering strength and guidance. This emotional support can be crucial for resilience and recovery.\", 'refusal': None, 'reasoning': None}}], 'usage': {'prompt_tokens': 11, 'completion_tokens': 148, 'total_tokens': 159}}\n"
          ]
        }
      ]
    },
    {
      "cell_type": "code",
      "source": [
        "data = response.json()\n",
        "data['choices'][0]['message']['content']"
      ],
      "metadata": {
        "colab": {
          "base_uri": "https://localhost:8080/",
          "height": 122
        },
        "id": "lOMZYbzVgNDq",
        "outputId": "d6681266-1e30-40c2-d0bd-a6c0b5a76898"
      },
      "execution_count": 14,
      "outputs": [
        {
          "output_type": "execute_result",
          "data": {
            "text/plain": [
              "\" Attachment in psychology refers to a strong emotional bond between two or more individuals. It's an intense connection characterized by feelings of love, Security, trust, and spiritual essence. This bond is typically formed during enhancing interactions and shared experiences.\\n\\nAttachments are essential for human development and social relationships. They provide a sense of safety and belonging, allowing individuals to form secure bases from which they can explore their environment.\\n\\nIn difficult times, attachments serve as emotional springboards. They often蛋糕don't species office?, connection Wu will improve!!! support我们就确定来 together?. It\\t  是的。 Abundant support babies will assured in future.你的儿子一定会很顺利的。， offering strength and guidance. This emotional support can be crucial for resilience and recovery.\""
            ],
            "application/vnd.google.colaboratory.intrinsic+json": {
              "type": "string"
            }
          },
          "metadata": {},
          "execution_count": 14
        }
      ]
    },
    {
      "cell_type": "code",
      "source": [
        "import asyncio\n",
        "from openai import AsyncOpenAI\n",
        "from agents import Agent, OpenAIChatCompletionsModel, Runner, set_tracing_disabled\n",
        "\n",
        "client = AsyncOpenAI(\n",
        "    api_key=OPENROUTER_API_KEY,\n",
        "    base_url=BASE_URL\n",
        ")\n",
        "\n",
        "set_tracing_disabled(disabled=True)\n",
        "\n",
        "async def main():\n",
        "    # This agent will use the custom LLM provider\n",
        "    agent = Agent(\n",
        "        name=\"Assistant\",\n",
        "        instructions=\"You only respond in English.\",\n",
        "        model=OpenAIChatCompletionsModel(model=MODEL, openai_client=client),\n",
        "    )\n",
        "\n",
        "    result = await Runner.run(\n",
        "        agent,\n",
        "        \"Tell me about polymorphism in programming.\",\n",
        "    )\n",
        "    print(result.final_output)\n",
        "\n",
        "\n",
        "if __name__ == \"__main__\":\n",
        "    asyncio.run(main())"
      ],
      "metadata": {
        "colab": {
          "base_uri": "https://localhost:8080/"
        },
        "outputId": "b3ca4761-5bc0-4b1b-c869-c9800139f41c",
        "id": "lnd0QJfmhgUI"
      },
      "execution_count": 17,
      "outputs": [
        {
          "output_type": "stream",
          "name": "stdout",
          "text": [
            "\n"
          ]
        }
      ]
    },
    {
      "cell_type": "markdown",
      "source": [
        "## 3: DeepSeek: DeepSeek V3 Base (free)\n",
        "It is a base model mostly meant for testing, you need to provide detailed prompts for the model to return useful responses.\n",
        "\n",
        "It achieves high training efficiency and stability, with strong performance across language, reasoning, math, and coding tasks."
      ],
      "metadata": {
        "id": "P0nAw8s_h6Vz"
      }
    },
    {
      "cell_type": "code",
      "source": [
        "#Reference: https://openrouter.ai/docs/quickstart\n",
        "\n",
        "BASE_URL = \"https://openrouter.ai/api/v1\"\n",
        "MODEL = \"deepseek/deepseek-v3-base:free\""
      ],
      "metadata": {
        "id": "bI2MaTodiRQ9"
      },
      "execution_count": 19,
      "outputs": []
    },
    {
      "cell_type": "code",
      "source": [
        "import requests\n",
        "import json\n",
        "\n",
        "response = requests.post(\n",
        "  url=f\"{BASE_URL}/chat/completions\",\n",
        "  headers={\n",
        "    \"Authorization\": f\"Bearer {OPENROUTER_API_KEY}\",\n",
        "  },\n",
        "  data=json.dumps({\n",
        "    \"model\": MODEL,\n",
        "    \"messages\": [\n",
        "      {\n",
        "        \"role\": \"user\",\n",
        "        \"content\": \"Is life’s meaning what you make of it?\"\n",
        "      }\n",
        "    ]\n",
        "  })\n",
        ")\n",
        "\n",
        "print(response.json())"
      ],
      "metadata": {
        "colab": {
          "base_uri": "https://localhost:8080/"
        },
        "id": "y-10jNs4ibAw",
        "outputId": "4f5b78e8-c78e-4ded-9938-222eb4ab5612"
      },
      "execution_count": 21,
      "outputs": [
        {
          "output_type": "stream",
          "name": "stdout",
          "text": [
            "{'id': 'gen-1745242657-RZV3Lo8r29GZGZ6jr8LG', 'provider': 'Chutes', 'model': 'deepseek/deepseek-v3-base', 'object': 'chat.completion', 'created': 1745242657, 'choices': [{'logprobs': None, 'finish_reason': 'stop', 'native_finish_reason': 'stop', 'index': 0, 'message': {'role': 'assistant', 'content': 'If you’re a humanist, you’ll probably say yes. But if you’re a theist, you’ll probably say no. Theists tend to think that life’s meaning is something that’s given to us by God. It’s not something that we create for ourselves. Humanists, on the other hand, tend to think that life’s meaning is something that we create for ourselves. It’s not something that’s given to us by anyone else. So, which is it? Is life’s meaning what you make of it? Or is it something that’s given to us by God? There’s no easy answer to this question. It’s a matter of personal belief. But it’s an important question to think about, because it can help us to understand what we believe about life and its purpose. If you’re a theist, you might believe that life’s meaning is something that’s given to us by God. You might believe that God has a plan for our lives, and that our purpose is to fulfill that plan. You might also believe that life is a test, and that our purpose is to pass that test. If you’re a humanist, you might believe that life’s meaning is something that we create for ourselves. You might believe that we’re the ones who decide what our purpose is. You might also believe that life is a journey, and that our purpose is to enjoy the journey. So, which is it? Is life’s meaning what you make of it? Or is it something that’s given to us by God? There’s no easy answer to this question. It’s a matter of personal belief. But it’s an important question to think about, because it can help us to understand what we believe about life and its purpose.', 'refusal': None, 'reasoning': None}}], 'usage': {'prompt_tokens': 17, 'completion_tokens': 357, 'total_tokens': 374}}\n"
          ]
        }
      ]
    },
    {
      "cell_type": "code",
      "execution_count": 22,
      "metadata": {
        "colab": {
          "base_uri": "https://localhost:8080/",
          "height": 139
        },
        "id": "mv3B6_oRto5S",
        "outputId": "3ad4b824-a8f8-4422-c147-5c84e0c6f530"
      },
      "outputs": [
        {
          "output_type": "execute_result",
          "data": {
            "text/plain": [
              "'If you’re a humanist, you’ll probably say yes. But if you’re a theist, you’ll probably say no. Theists tend to think that life’s meaning is something that’s given to us by God. It’s not something that we create for ourselves. Humanists, on the other hand, tend to think that life’s meaning is something that we create for ourselves. It’s not something that’s given to us by anyone else. So, which is it? Is life’s meaning what you make of it? Or is it something that’s given to us by God? There’s no easy answer to this question. It’s a matter of personal belief. But it’s an important question to think about, because it can help us to understand what we believe about life and its purpose. If you’re a theist, you might believe that life’s meaning is something that’s given to us by God. You might believe that God has a plan for our lives, and that our purpose is to fulfill that plan. You might also believe that life is a test, and that our purpose is to pass that test. If you’re a humanist, you might believe that life’s meaning is something that we create for ourselves. You might believe that we’re the ones who decide what our purpose is. You might also believe that life is a journey, and that our purpose is to enjoy the journey. So, which is it? Is life’s meaning what you make of it? Or is it something that’s given to us by God? There’s no easy answer to this question. It’s a matter of personal belief. But it’s an important question to think about, because it can help us to understand what we believe about life and its purpose.'"
            ],
            "application/vnd.google.colaboratory.intrinsic+json": {
              "type": "string"
            }
          },
          "metadata": {},
          "execution_count": 22
        }
      ],
      "source": [
        "data = response.json()\n",
        "data['choices'][0]['message']['content']"
      ]
    },
    {
      "cell_type": "code",
      "execution_count": 38,
      "metadata": {
        "colab": {
          "base_uri": "https://localhost:8080/"
        },
        "id": "QA4vWqtvN6wm",
        "outputId": "cbd90a0e-2be7-4bc7-ab31-ed9ef7ca175d"
      },
      "outputs": [
        {
          "output_type": "stream",
          "name": "stdout",
          "text": [
            "Abstraction in Programming\n",
            "==========================\n",
            "\n",
            "### Definition\n",
            "\n",
            "Abstraction is a fundamental concept in programming that involves exposing only the necessary information to the outside world while hiding the internal details. It allows developers to focus on essential features and behaviors of an object or system, making it easier to understand, modify, and maintain.\n",
            "\n",
            "### Purpose\n",
            "\n",
            "The primary purpose of abstraction is to:\n",
            "\n",
            "* **Reduce complexity**: By hiding internal details, abstraction simplifies the interface and makes it easier to interact with the object or system.\n",
            "* **Increase modularity**: Abstraction enables developers to create independent modules that can be easily reused and combined to build more complex systems.\n",
            "* **Improve maintainability**: With abstraction, changes to the internal implementation do not affect the external interface, making it easier to modify and maintain the code.\n",
            "\n",
            "### Types of Abstraction\n",
            "\n",
            "There are several types of abstraction in programming:\n",
            "\n",
            "* **Data Abstraction**: Hides the internal representation of data and provides a simplified interface to access and manipulate it.\n",
            "* **Control Abstraction**: Hides the internal control flow and provides a simplified interface to interact with the system.\n",
            "* **Functional Abstraction**: Hides the internal implementation of a function and provides a simplified interface to call it.\n",
            "\n",
            "### Benefits\n",
            "\n",
            "The benefits of abstraction include:\n",
            "\n",
            "* **Easier to understand and use**: Abstraction provides a simplified interface, making it easier for developers to understand and use the object or system.\n",
            "* **Improved code reuse**: Abstraction enables developers to create reusable modules that can be easily combined to build more complex systems.\n",
            "* **Reduced coupling**: Abstraction reduces the dependencies between modules, making it easier to modify and maintain the code.\n",
            "\n",
            "### Example\n",
            "\n",
            "Here is an example of abstraction in Python:\n",
            "```python\n",
            "from abc import ABC, abstractmethod\n",
            "\n",
            "# Abstract class\n",
            "class Vehicle(ABC):\n",
            "    @abstractmethod\n",
            "    def start_engine(self):\n",
            "        pass\n",
            "\n",
            "    @abstractmethod\n",
            "    def accelerate(self):\n",
            "        pass\n",
            "\n",
            "# Concrete class\n",
            "class Car(Vehicle):\n",
            "    def start_engine(self):\n",
            "        print(\"Car engine started\")\n",
            "\n",
            "    def accelerate(self):\n",
            "        print(\"Car accelerating\")\n",
            "\n",
            "# Concrete class\n",
            "class Motorcycle(Vehicle):\n",
            "    def start_engine(self):\n",
            "        print(\"Motorcycle engine started\")\n",
            "\n",
            "    def accelerate(self):\n",
            "        print(\"Motorcycle accelerating\")\n",
            "\n",
            "# Using abstraction\n",
            "def drive_vehicle(vehicle: Vehicle):\n",
            "    vehicle.start_engine()\n",
            "    vehicle.accelerate()\n",
            "\n",
            "car = Car()\n",
            "motorcycle = Motorcycle()\n",
            "\n",
            "drive_vehicle(car)\n",
            "drive_vehicle(motorcycle)\n",
            "```\n",
            "In this example, the `Vehicle` abstract class provides an abstraction of a vehicle, hiding the internal details of the engine and acceleration. The `Car` and `Motorcycle` classes are concrete implementations of the `Vehicle` abstraction. The `drive_vehicle` function uses the abstraction to interact with the vehicle, without knowing the internal details of the engine and acceleration.\n",
            "\n",
            "### Best Practices\n",
            "\n",
            "To apply abstraction effectively:\n",
            "\n",
            "* **Identify the essential features**: Determine what features and behaviors are essential to the object or system.\n",
            "* **Hide internal details**: Hide the internal implementation details and provide a simplified interface.\n",
            "* **Use abstract classes and interfaces**: Use abstract classes and interfaces to define the abstraction.\n",
            "* **Keep it simple and consistent**: Keep the abstraction simple and consistent to make it easy to understand and use.\n"
          ]
        }
      ],
      "source": [
        "import asyncio\n",
        "from openai import AsyncOpenAI\n",
        "from agents import Agent, OpenAIChatCompletionsModel, Runner, set_tracing_disabled\n",
        "\n",
        "client = AsyncOpenAI(\n",
        "    api_key=OPENROUTER_API_KEY,\n",
        "    base_url=BASE_URL\n",
        ")\n",
        "\n",
        "set_tracing_disabled(disabled=True)\n",
        "\n",
        "async def main():\n",
        "    # This agent will use the custom LLM provider\n",
        "    agent = Agent(\n",
        "        name=\"Assistant\",\n",
        "        instructions=\"You only respond in English.\",\n",
        "        model=OpenAIChatCompletionsModel(model=MODEL, openai_client=client),\n",
        "    )\n",
        "\n",
        "    result = await Runner.run(\n",
        "        agent,\n",
        "        \"Tell me about abstraction in programming.\",\n",
        "    )\n",
        "    print(result.final_output)\n",
        "\n",
        "\n",
        "if __name__ == \"__main__\":\n",
        "    asyncio.run(main())"
      ]
    },
    {
      "cell_type": "markdown",
      "source": [
        "## 4: Mistral: Mistral Small 3.1 24B (free)\n",
        "It has featuring 24 billion parameters with advanced multimodal capabilities.\n",
        "\n",
        " It provides state-of-the-art performance in text-based reasoning and vision tasks, including image analysis, programming, mathematical reasoning, and multilingual support across dozens of languages."
      ],
      "metadata": {
        "id": "2l-rc3z9k-cj"
      }
    },
    {
      "cell_type": "code",
      "source": [
        "#Reference: https://openrouter.ai/docs/quickstart\n",
        "\n",
        "BASE_URL = \"https://openrouter.ai/api/v1\"\n",
        "MODEL = \"mistralai/mistral-small-3.1-24b-instruct:free\""
      ],
      "metadata": {
        "id": "iuXqCi6HlZSy"
      },
      "execution_count": 26,
      "outputs": []
    },
    {
      "cell_type": "code",
      "execution_count": 27,
      "metadata": {
        "colab": {
          "base_uri": "https://localhost:8080/"
        },
        "id": "e0if6eGutM9h",
        "outputId": "dd110c8a-972b-4e87-847b-687bb58fa135"
      },
      "outputs": [
        {
          "output_type": "stream",
          "name": "stdout",
          "text": [
            "{'id': 'gen-1745243006-h8Y0St5NWAwMwk1hAvzj', 'provider': 'Chutes', 'model': 'mistralai/mistral-small-3.1-24b-instruct', 'object': 'chat.completion', 'created': 1745243006, 'choices': [{'logprobs': None, 'finish_reason': 'stop', 'native_finish_reason': 'stop', 'index': 0, 'message': {'role': 'assistant', 'content': 'Absurdism is a philosophical stance that emphasizes the conflict between the human tendency to seek heritage, meaning, and purpose in life and the apparent meaninglessness and indifference of the universe. Here are some key aspects of Absurdism:\\n\\n1. **The Absurd**: Absurdismstarts with the realization of the absurd, which is the situation that arises when our search for meaning and value in a meaningless and indifferent universe comes to conflict with the universe. This conflict is often expressed in themes of isolation, mortality, and the search for purpose.\\n\\n2. **Existentialism**: Absurdism is often associated with existentialism, but there are important differences. While existentialists might suggest that individuals create their own meaning, absurdists tend to focus more on the inherent meaninglessness of the universe.\\n\\n3. **Acceptance and Rebellion**: Absurdists like Albert Camus suggest that there are three ways to respond to the absurd: suicide (abdicating from the struggle), religious faith (choosing an arbitrary meaning), or acceptance and rebellion (accepting the absurd while trying to live life to the fullest despite it).\\n\\n4. **Freedom and Choice**: Absurdism often highlights the freedom and choices available to individuals, despite the universe\\'s indifference.\\n\\n5. **Coping with Absurdity**: The absurd view does not necessarily lead to pessimism or nihilism. Instead, it can foster a sense of freedom and a focus on the present moment.\\n\\nSome prominent figures associated with Absurdism include Albert Camus, whose novel \"The Stranger\" and philosophical essay \"The Myth of Sisyphus\" are classic works, and Samuel Beckett, whose plays, like \"Waiting for Godot,\" explore themes of meaninglessness and existential struggle.\\n\\nIn essence, Absurdism is about confronting the meaninglessness of life and choosing how to face that absurdity with dignity and passion.', 'refusal': None, 'reasoning': None}}], 'usage': {'prompt_tokens': 12, 'completion_tokens': 378, 'total_tokens': 390}}\n"
          ]
        }
      ],
      "source": [
        "import requests\n",
        "import json\n",
        "\n",
        "response = requests.post(\n",
        "  url=f\"{BASE_URL}/chat/completions\",\n",
        "  headers={\n",
        "    \"Authorization\": f\"Bearer {OPENROUTER_API_KEY}\",\n",
        "  },\n",
        "  data=json.dumps({\n",
        "    \"model\": MODEL,\n",
        "    \"messages\": [\n",
        "      {\n",
        "        \"role\": \"user\",\n",
        "        \"content\": \"What is the meaning of Absurdism ?\"\n",
        "      }\n",
        "    ]\n",
        "  })\n",
        ")\n",
        "\n",
        "print(response.json())"
      ]
    },
    {
      "cell_type": "code",
      "execution_count": 28,
      "metadata": {
        "colab": {
          "base_uri": "https://localhost:8080/",
          "height": 139
        },
        "outputId": "f5b1044b-8b49-4855-bbfe-37479c074166",
        "id": "vnj4IV37lx4H"
      },
      "outputs": [
        {
          "output_type": "execute_result",
          "data": {
            "text/plain": [
              "'Absurdism is a philosophical stance that emphasizes the conflict between the human tendency to seek heritage, meaning, and purpose in life and the apparent meaninglessness and indifference of the universe. Here are some key aspects of Absurdism:\\n\\n1. **The Absurd**: Absurdismstarts with the realization of the absurd, which is the situation that arises when our search for meaning and value in a meaningless and indifferent universe comes to conflict with the universe. This conflict is often expressed in themes of isolation, mortality, and the search for purpose.\\n\\n2. **Existentialism**: Absurdism is often associated with existentialism, but there are important differences. While existentialists might suggest that individuals create their own meaning, absurdists tend to focus more on the inherent meaninglessness of the universe.\\n\\n3. **Acceptance and Rebellion**: Absurdists like Albert Camus suggest that there are three ways to respond to the absurd: suicide (abdicating from the struggle), religious faith (choosing an arbitrary meaning), or acceptance and rebellion (accepting the absurd while trying to live life to the fullest despite it).\\n\\n4. **Freedom and Choice**: Absurdism often highlights the freedom and choices available to individuals, despite the universe\\'s indifference.\\n\\n5. **Coping with Absurdity**: The absurd view does not necessarily lead to pessimism or nihilism. Instead, it can foster a sense of freedom and a focus on the present moment.\\n\\nSome prominent figures associated with Absurdism include Albert Camus, whose novel \"The Stranger\" and philosophical essay \"The Myth of Sisyphus\" are classic works, and Samuel Beckett, whose plays, like \"Waiting for Godot,\" explore themes of meaninglessness and existential struggle.\\n\\nIn essence, Absurdism is about confronting the meaninglessness of life and choosing how to face that absurdity with dignity and passion.'"
            ],
            "application/vnd.google.colaboratory.intrinsic+json": {
              "type": "string"
            }
          },
          "metadata": {},
          "execution_count": 28
        }
      ],
      "source": [
        "data = response.json()\n",
        "data['choices'][0]['message']['content']"
      ]
    },
    {
      "cell_type": "code",
      "execution_count": 29,
      "metadata": {
        "colab": {
          "base_uri": "https://localhost:8080/"
        },
        "outputId": "e1d36280-a4e0-482b-fae6-b7ddf8d4c425",
        "id": "XFQOe6ksl5Uf"
      },
      "outputs": [
        {
          "output_type": "stream",
          "name": "stdout",
          "text": [
            "ChainLit is a framework designed to facilitate the development and deployment of large language models (LLMs) and AI applications that require multi-step conversations or workflows. It is particularly useful for building systems that need to maintain context over multiple interactions, such as chatbots, virtual assistants, and other conversational AI applications. Here are some key features and concepts associated with ChainLit:\n",
            "\n",
            "1. **Chaining Prompts**: ChainLit allows developers to create and manage chains of prompts, where the output of one prompt can serve as the input for the next. This enables the construction of complex, multi-step workflows that can handle intricate tasks.\n",
            "\n",
            "2. **Context Management**: One of the core strengths of ChainLit is its ability to manage context across multiple interactions. This means that the AI can maintain a conversation state, remembering previous interactions and using that information to provide more accurate and relevant responses.\n",
            "\n",
            "3. **Modularity**: ChainLit promotes modularity by allowing developers to break down complex AI workflows into smaller, reusable components. This makes it easier to manage, test, and extend the functionality of AI applications.\n",
            "\n",
            "4. **Ease of Integration**: The framework is designed to be easily integrated with existing AI models and libraries, making it versatile and compatible with a wide range of tools and frameworks.\n",
            "\n",
            "5. **Customization**: Developers can customize the behavior of ChainLit to fit specific use cases, ensuring that the AI applications built with it meet the unique requirements of their projects.\n",
            "\n",
            "6. **Pipelining**: ChainLit supports the creation of pipelines where multiple AI models or components can be chained together. This is useful for applications that require processing data through several stages, each handled by a different component.\n",
            "\n",
            "7. **Deployment**: ChainLit provides tools and configurations to deploy AI applications reliably. This includes handling scalability, load balancing, and monitoring to ensure that the AI services are robust and performant.\n",
            "\n",
            "8. **Support for OpenAI and Other Providers**: ChainLit often supports integration with various AI model providers, including OpenAI, making it easier to leverage powerful AI models in your applications.\n",
            "\n",
            "9. **Community and Documentation**: Like many popular frameworks, ChainLit may come with extensive documentation and community support, making it easier for developers to get started and troubleshoot issues.\n",
            "\n",
            "Overall, ChainLit is a powerful tool for developers looking to build complex, context-aware AI applications efficiently. Its focus on modularity, context management, and ease of integration makes it a versatile choice for a variety of AI projects.\n"
          ]
        }
      ],
      "source": [
        "import asyncio\n",
        "from openai import AsyncOpenAI\n",
        "from agents import Agent, OpenAIChatCompletionsModel, Runner, set_tracing_disabled\n",
        "\n",
        "client = AsyncOpenAI(\n",
        "    api_key=OPENROUTER_API_KEY,\n",
        "    base_url=BASE_URL\n",
        ")\n",
        "\n",
        "set_tracing_disabled(disabled=True)\n",
        "\n",
        "async def main():\n",
        "    # This agent will use the custom LLM provider\n",
        "    agent = Agent(\n",
        "        name=\"Assistant\",\n",
        "        instructions=\"You only respond in English.\",\n",
        "        model=OpenAIChatCompletionsModel(model=MODEL, openai_client=client),\n",
        "    )\n",
        "\n",
        "    result = await Runner.run(\n",
        "        agent,\n",
        "        \"Tell me about chainlit in programming.\",\n",
        "    )\n",
        "    print(result.final_output)\n",
        "\n",
        "\n",
        "if __name__ == \"__main__\":\n",
        "    asyncio.run(main())"
      ]
    },
    {
      "cell_type": "markdown",
      "source": [
        "## 5: Meta: Llama 4 Scout (free)\n",
        "It supports native multimodal input (text and image) and multilingual output (text and code) across 12 supported languages.\n",
        "\n",
        "It is instruction-tuned for use in multilingual chat, captioning, and image understanding tasks."
      ],
      "metadata": {
        "id": "4uK0KbKmmYPS"
      }
    },
    {
      "cell_type": "code",
      "source": [
        "#Reference: https://openrouter.ai/docs/quickstart\n",
        "\n",
        "BASE_URL = \"https://openrouter.ai/api/v1\"\n",
        "MODEL = \"meta-llama/llama-4-scout:free\""
      ],
      "metadata": {
        "id": "oIfsJYgdmL2T"
      },
      "execution_count": 30,
      "outputs": []
    },
    {
      "cell_type": "code",
      "source": [
        "import requests\n",
        "import json\n",
        "\n",
        "response = requests.post(\n",
        "  url=f\"{BASE_URL}/chat/completions\",\n",
        "  headers={\n",
        "    \"Authorization\": f\"Bearer {OPENROUTER_API_KEY}\",\n",
        "  },\n",
        "  data=json.dumps({\n",
        "    \"model\": MODEL,\n",
        "    \"messages\": [\n",
        "      {\n",
        "        \"role\": \"user\",\n",
        "        \"content\": \"What is the meaning of Narrative Psychology?\"\n",
        "      }\n",
        "    ]\n",
        "  })\n",
        ")\n",
        "\n",
        "print(response.json())"
      ],
      "metadata": {
        "colab": {
          "base_uri": "https://localhost:8080/"
        },
        "id": "nt4Wt01jm3Vf",
        "outputId": "6b204132-98f3-42d6-cb0a-cb781b69bd7f"
      },
      "execution_count": 34,
      "outputs": [
        {
          "output_type": "stream",
          "name": "stdout",
          "text": [
            "{'id': 'gen-1745243522-w5RTAiMw1kO909QmNYTQ', 'provider': 'Chutes', 'model': 'meta-llama/llama-4-scout', 'object': 'chat.completion', 'created': 1745243522, 'choices': [{'logprobs': None, 'finish_reason': 'stop', 'native_finish_reason': 'stop', 'index': 0, 'message': {'role': 'assistant', 'content': \"### Defining Narrative Psychology\\n\\nNarrative psychology is a field of study that examines the role of stories in human behavior, cognition, and development. It explores how people use narratives, or stories, to make sense of themselves, their experiences, and their place in the world.\\n\\n### Key Aspects of Narrative Psychology\\n\\nThe concept of narrative psychology emphasizes that people's lives are organized around stories, which serve several functions, including:\\n\\n* **Meaning-making**: Narratives help individuals make sense of their experiences, emotions, and relationships, giving them a sense of coherence and purpose.\\n* **Identity formation**: The stories we tell about ourselves shape our sense of identity and self-concept, influencing how we perceive ourselves and our place in the world.\\n* **Emotional regulation**: Narratives can be used to process and regulate emotions, helping individuals to cope with challenges and adversity.\\n* **Social connection**: Sharing stories with others can foster social connection, empathy, and understanding, highlighting the importance of narrative in interpersonal relationships.\\n\\n### Core Ideas and Applications\\n\\nSome core ideas in narrative psychology include:\\n\\n* **The narrative self**: The idea that our sense of self is constructed through the stories we tell about ourselves and our experiences.\\n* **Life stories**: The concept that people's lives are organized around a narrative structure, with a beginning, middle, and end, and that this structure influences how we make sense of our experiences.\\n* **Narrative identity**: The notion that our identities are shaped by the stories we tell about ourselves and our experiences.\\n\\nNarrative psychology has practical applications in various fields, including:\\n\\n* **Psychotherapy**: Narrative therapy, which focuses on helping individuals re-author their life stories and reframe their experiences in a more empowering way.\\n* **Education**: Using narratives to facilitate learning and identity development.\\n* **Social work**: Understanding the narratives of individuals and communities to better support their needs.\\n\\n### Conclusion\\n\\nIn conclusion, narrative psychology is a fascinating field that highlights the importance of stories in shaping human behavior, cognition, and development. By understanding how narratives influence our lives, we can gain a deeper appreciation for the complexities of human experience and develop more effective interventions and applications in various fields.\\n\\n**Summary of Key Points**\\n\\n* Narrative psychology examines the role of stories in human behavior, cognition, and development.\\n* Narratives serve several functions, including meaning-making, identity formation, emotional regulation, and social connection.\\n* Core ideas in narrative psychology include the narrative self, life stories, and narrative identity.\\n* Narrative psychology has practical applications in psychotherapy, education, social work, and other fields.\", 'refusal': None, 'reasoning': None}}], 'usage': {'prompt_tokens': 18, 'completion_tokens': 516, 'total_tokens': 534}}\n"
          ]
        }
      ]
    },
    {
      "cell_type": "code",
      "source": [
        "data = response.json()\n",
        "data['choices'][0]['message']['content']"
      ],
      "metadata": {
        "colab": {
          "base_uri": "https://localhost:8080/",
          "height": 139
        },
        "id": "zWC65EdInDkO",
        "outputId": "576f4274-818a-4a83-adf0-41a6d413df4b"
      },
      "execution_count": 35,
      "outputs": [
        {
          "output_type": "execute_result",
          "data": {
            "text/plain": [
              "\"### Defining Narrative Psychology\\n\\nNarrative psychology is a field of study that examines the role of stories in human behavior, cognition, and development. It explores how people use narratives, or stories, to make sense of themselves, their experiences, and their place in the world.\\n\\n### Key Aspects of Narrative Psychology\\n\\nThe concept of narrative psychology emphasizes that people's lives are organized around stories, which serve several functions, including:\\n\\n* **Meaning-making**: Narratives help individuals make sense of their experiences, emotions, and relationships, giving them a sense of coherence and purpose.\\n* **Identity formation**: The stories we tell about ourselves shape our sense of identity and self-concept, influencing how we perceive ourselves and our place in the world.\\n* **Emotional regulation**: Narratives can be used to process and regulate emotions, helping individuals to cope with challenges and adversity.\\n* **Social connection**: Sharing stories with others can foster social connection, empathy, and understanding, highlighting the importance of narrative in interpersonal relationships.\\n\\n### Core Ideas and Applications\\n\\nSome core ideas in narrative psychology include:\\n\\n* **The narrative self**: The idea that our sense of self is constructed through the stories we tell about ourselves and our experiences.\\n* **Life stories**: The concept that people's lives are organized around a narrative structure, with a beginning, middle, and end, and that this structure influences how we make sense of our experiences.\\n* **Narrative identity**: The notion that our identities are shaped by the stories we tell about ourselves and our experiences.\\n\\nNarrative psychology has practical applications in various fields, including:\\n\\n* **Psychotherapy**: Narrative therapy, which focuses on helping individuals re-author their life stories and reframe their experiences in a more empowering way.\\n* **Education**: Using narratives to facilitate learning and identity development.\\n* **Social work**: Understanding the narratives of individuals and communities to better support their needs.\\n\\n### Conclusion\\n\\nIn conclusion, narrative psychology is a fascinating field that highlights the importance of stories in shaping human behavior, cognition, and development. By understanding how narratives influence our lives, we can gain a deeper appreciation for the complexities of human experience and develop more effective interventions and applications in various fields.\\n\\n**Summary of Key Points**\\n\\n* Narrative psychology examines the role of stories in human behavior, cognition, and development.\\n* Narratives serve several functions, including meaning-making, identity formation, emotional regulation, and social connection.\\n* Core ideas in narrative psychology include the narrative self, life stories, and narrative identity.\\n* Narrative psychology has practical applications in psychotherapy, education, social work, and other fields.\""
            ],
            "application/vnd.google.colaboratory.intrinsic+json": {
              "type": "string"
            }
          },
          "metadata": {},
          "execution_count": 35
        }
      ]
    },
    {
      "cell_type": "code",
      "execution_count": 37,
      "metadata": {
        "colab": {
          "base_uri": "https://localhost:8080/"
        },
        "outputId": "844f6646-da72-4da5-fe4a-721580a08228",
        "id": "S2YiFj8hnPXo"
      },
      "outputs": [
        {
          "output_type": "stream",
          "name": "stdout",
          "text": [
            "**What is UI Design?**\n",
            "\n",
            "User Interface (UI) design is the process of creating visual elements and interactions that allow users to interact with a software application, website, or system. The goal of UI design is to create an intuitive, aesthetically pleasing, and user-friendly interface that enables users to achieve their goals efficiently.\n",
            "\n",
            "**Key Principles of UI Design**\n",
            "\n",
            "1. **Clarity**: The interface should be easy to understand, with clear and concise language.\n",
            "2. **Consistency**: The design should be consistent throughout the application, with similar elements behaving similarly.\n",
            "3. **Feedback**: The interface should provide feedback to the user, such as visual cues or messages, to indicate the outcome of their actions.\n",
            "4. **Simple and Intuitive**: The design should be simple and easy to use, with minimal cognitive load.\n",
            "5. **Accessibility**: The design should be accessible to users with disabilities.\n",
            "\n",
            "**UI Design Elements**\n",
            "\n",
            "1. **Layout**: The arrangement of visual elements on the screen.\n",
            "2. **Color Scheme**: The selection of colors used in the design.\n",
            "3. **Typography**: The choice of font, size, and style of text.\n",
            "4. **Icons**: Graphical representations of actions or objects.\n",
            "5. **Buttons and Controls**: Interactive elements that allow users to perform actions.\n",
            "\n",
            "**UI Design Process**\n",
            "\n",
            "1. **Research**: Understand the target audience, their needs, and goals.\n",
            "2. **Wireframing**: Create low-fidelity sketches of the interface.\n",
            "3. **Prototyping**: Create interactive prototypes to test and refine the design.\n",
            "4. **Visual Design**: Create high-fidelity visual designs.\n",
            "5. **Testing and Iteration**: Test the design with users and iterate on the design based on feedback.\n",
            "\n",
            "**UI Design Tools**\n",
            "\n",
            "1. **Sketch**: A digital design tool for user interface design.\n",
            "2. **Figma**: A cloud-based design tool for user interface design.\n",
            "3. **Adobe XD**: A user experience design software.\n",
            "4. **InVision**: A design platform for user experience design.\n",
            "\n",
            "**Best Practices**\n",
            "\n",
            "1. **Follow Platform Guidelines**: Follow platform-specific design guidelines, such as Apple's Human Interface Guidelines or Google's Material Design.\n",
            "2. **Use Responsive Design**: Design for different screen sizes and devices.\n",
            "3. **Test with Users**: Test the design with real users to validate assumptions.\n",
            "4. **Keep it Simple**: Avoid clutter and keep the design simple and intuitive.\n",
            "\n",
            "**UI Design in Programming**\n",
            "\n",
            "UI design is an essential part of programming, as it directly affects the user experience of a software application. Programmers can use various programming languages and frameworks, such as HTML, CSS, and JavaScript, to implement UI designs. Some popular frameworks for UI design include:\n",
            "\n",
            "1. **React**: A JavaScript library for building user interfaces.\n",
            "2. **Angular**: A JavaScript framework for building single-page applications.\n",
            "3. **Vue.js**: A progressive and flexible JavaScript framework for building user interfaces.\n",
            "\n",
            "By following UI design principles, best practices, and using the right tools and frameworks, programmers can create effective and user-friendly interfaces that enhance the overall user experience.\n"
          ]
        }
      ],
      "source": [
        "import asyncio\n",
        "from openai import AsyncOpenAI\n",
        "from agents import Agent, OpenAIChatCompletionsModel, Runner, set_tracing_disabled\n",
        "\n",
        "client = AsyncOpenAI(\n",
        "    api_key=OPENROUTER_API_KEY,\n",
        "    base_url=BASE_URL\n",
        ")\n",
        "\n",
        "set_tracing_disabled(disabled=True)\n",
        "\n",
        "async def main():\n",
        "    # This agent will use the custom LLM provider\n",
        "    agent = Agent(\n",
        "        name=\"Assistant\",\n",
        "        instructions=\"You only respond in English.\",\n",
        "        model=OpenAIChatCompletionsModel(model=MODEL, openai_client=client),\n",
        "    )\n",
        "\n",
        "    result = await Runner.run(\n",
        "        agent,\n",
        "        \"Tell me about UI design in programming.\",\n",
        "    )\n",
        "    print(result.final_output)\n",
        "\n",
        "\n",
        "if __name__ == \"__main__\":\n",
        "    asyncio.run(main())"
      ]
    }
  ]
}